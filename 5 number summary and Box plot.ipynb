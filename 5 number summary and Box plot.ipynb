{
 "cells": [
  {
   "cell_type": "markdown",
   "id": "59b1f897-058f-41fd-84da-7f634a13f664",
   "metadata": {},
   "source": [
    "### 5 number summary and box plot"
   ]
  },
  {
   "cell_type": "code",
   "execution_count": 2,
   "id": "1cb87121-f435-459f-8396-7f57e26bf730",
   "metadata": {},
   "outputs": [],
   "source": [
    "import numpy as np"
   ]
  },
  {
   "cell_type": "code",
   "execution_count": 10,
   "id": "aacb171a-b917-4773-8640-06d1d4294940",
   "metadata": {},
   "outputs": [],
   "source": [
    "lst_marks=[78,43,21,45,12,89,90,75,43,11,22,54}"
   ]
  },
  {
   "cell_type": "code",
   "execution_count": 12,
   "id": "7c8e0e9d-81ad-429e-b814-5ba843422e13",
   "metadata": {},
   "outputs": [],
   "source": [
    "minimum,Q1,median,Q3,maximum=np.quantile(lst_marks,[0,0.25,0.50,0.75,1.0])"
   ]
  },
  {
   "cell_type": "code",
   "execution_count": 18,
   "id": "cd3aba75-7146-414d-9dc9-8e6f0eb4bee2",
   "metadata": {},
   "outputs": [
    {
     "data": {
      "text/plain": [
       "(11.0, 21.75, 44.0, 75.75, 90.0)"
      ]
     },
     "execution_count": 18,
     "metadata": {},
     "output_type": "execute_result"
    }
   ],
   "source": [
    "minimum,Q1,median,Q3,maximum"
   ]
  },
  {
   "cell_type": "code",
   "execution_count": 22,
   "id": "f084a72e-9fd5-47b0-b884-5e74573ea144",
   "metadata": {},
   "outputs": [
    {
     "name": "stdout",
     "output_type": "stream",
     "text": [
      "54.0\n"
     ]
    }
   ],
   "source": [
    "IQR=Q3-Q1\n",
    "print(IQR)"
   ]
  },
  {
   "cell_type": "code",
   "execution_count": 26,
   "id": "06155795-724b-4e81-98d0-a7810b3ff85e",
   "metadata": {},
   "outputs": [],
   "source": [
    "lower_fence=Q1-1.5*(IQR)\n",
    "higher_fence=Q1+1.5*(IQR)"
   ]
  },
  {
   "cell_type": "code",
   "execution_count": 28,
   "id": "b4faf620-c59c-4336-a1a3-e56cbabfa1b3",
   "metadata": {},
   "outputs": [
    {
     "data": {
      "text/plain": [
       "-59.25"
      ]
     },
     "execution_count": 28,
     "metadata": {},
     "output_type": "execute_result"
    }
   ],
   "source": [
    "lower_fence"
   ]
  },
  {
   "cell_type": "code",
   "execution_count": 30,
   "id": "87e9978d-ffd8-4df6-b779-f0f65e76b569",
   "metadata": {},
   "outputs": [
    {
     "data": {
      "text/plain": [
       "102.75"
      ]
     },
     "execution_count": 30,
     "metadata": {},
     "output_type": "execute_result"
    }
   ],
   "source": [
    "higher_fence"
   ]
  },
  {
   "cell_type": "code",
   "execution_count": 32,
   "id": "a5ff2a5f-c9af-4151-a7be-9375a13325cd",
   "metadata": {},
   "outputs": [],
   "source": [
    "import seaborn as sns\n"
   ]
  },
  {
   "cell_type": "code",
   "execution_count": 42,
   "id": "67f395ec-a14a-465c-9a48-36c9488572ae",
   "metadata": {},
   "outputs": [
    {
     "data": {
      "text/plain": [
       "<Axes: >"
      ]
     },
     "execution_count": 42,
     "metadata": {},
     "output_type": "execute_result"
    },
    {
     "data": {
      "image/png": "[encoded data removed]",
      "text/plain": [
       "<Figure size 640x480 with 1 Axes>"
      ]
     },
     "metadata": {},
     "output_type": "display_data"
    }
   ],
   "source": [
    "sns.boxplot(lst_marks)"
   ]
  },
  {
   "cell_type": "code",
   "execution_count": 44,
   "id": "6a7a4220-3c93-43f8-8fed-78299c2a4b29",
   "metadata": {},
   "outputs": [],
   "source": [
    "lst_marks=[-100,-25078,43,21,45,12,89,90,75,43,11,22,54,1000,1003,1004,111,23,34]"
   ]
  },
  {
   "cell_type": "code",
   "execution_count": 46,
   "id": "c59db700-4716-4523-8ed8-69b42abfb6b8",
   "metadata": {},
   "outputs": [
    {
     "data": {
      "text/plain": [
       "<Axes: >"
      ]
     },
     "execution_count": 46,
     "metadata": {},
     "output_type": "execute_result"
    },
    {
     "data": {
      "image/png": "[encoded data removed]",
      "text/plain": [
       "<Figure size 640x480 with 1 Axes>"
      ]
     },
     "metadata": {},
     "output_type": "display_data"
    }
   ],
   "source": [
    "sns.boxplot(lst_marks)"
   ]
  },
  {
   "cell_type": "code",
   "execution_count": null,
   "id": "38d20d59-e805-48c5-be73-ef0ae1996bc6",
   "metadata": {},
   "outputs": [],
   "source": []
  },
  {
   "cell_type": "code",
   "execution_count": null,
   "id": "7fc128e1-b10e-42bc-8214-5212ee7bcf26",
   "metadata": {},
   "outputs": [],
   "source": []
  }
 ],
 "metadata": {
  "kernelspec": {
   "display_name": "Python 3 (ipykernel)",
   "language": "python",
   "name": "python3"
  },
  "language_info": {
   "codemirror_mode": {
    "name": "ipython",
    "version": 3
   },
   "file_extension": ".py",
   "mimetype": "text/x-python",
   "name": "python",
   "nbconvert_exporter": "python",
   "pygments_lexer": "ipython3",
   "version": "3.12.4"
  }
 },
 "nbformat": 4,
 "nbformat_minor": 5
}

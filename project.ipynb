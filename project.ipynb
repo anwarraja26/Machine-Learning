{
 "cells": [
  {
   "cell_type": "code",
   "execution_count": 3,
   "id": "ce49dd93-0238-48af-9992-38224aef9ede",
   "metadata": {},
   "outputs": [
    {
     "name": "stdin",
     "output_type": "stream",
     "text": [
      "Enter the location for weather information:  coimbatore\n"
     ]
    },
    {
     "name": "stdout",
     "output_type": "stream",
     "text": [
      "Weather data for coimbatore:\n",
      "Temperature: 29.0°C\n",
      "Humidity: 70.1%\n",
      "Wind Speed: 7.6 km/h\n",
      "Weather Summary: Rain, Partially cloudy\n"
     ]
    }
   ],
   "source": [
    "import requests\n",
    "\n",
    "def fetch_weather(location):\n",
    "    # Define the API endpoint and API key\n",
    "    base_url = \"https://weather.visualcrossing.com/VisualCrossingWebServices/rest/services/timeline/\"\n",
    "    api_key = \"X97ZMBSZNYZL9XGEKRCAC4DUB\"  # Replace with your API key\n",
    "    \n",
    "    # Complete URL with location and unit\n",
    "    url = f\"{base_url}{location}?unitGroup=metric&key={api_key}&contentType=json\"\n",
    "    \n",
    "    # Send the GET request\n",
    "    response = requests.get(url)\n",
    "    \n",
    "    # Check if the request was successful\n",
    "    if response.status_code == 200:\n",
    "        data = response.json()  # Parse the JSON response\n",
    "        \n",
    "        # Display key weather details\n",
    "        print(f\"Weather data for {location}:\")\n",
    "        print(f\"Temperature: {data['currentConditions']['temp']}°C\")\n",
    "        print(f\"Humidity: {data['currentConditions']['humidity']}%\")\n",
    "        print(f\"Wind Speed: {data['currentConditions']['windspeed']} km/h\")\n",
    "        print(f\"Weather Summary: {data['currentConditions']['conditions']}\")\n",
    "        \n",
    "        # Add more details if needed\n",
    "    else:\n",
    "        print(\"Failed to retrieve data. Please check the location and API key.\")\n",
    "\n",
    "# Get location input from the user\n",
    "location = input(\"Enter the location for weather information: \")\n",
    "fetch_weather(location)\n"
   ]
  },
  {
   "cell_type": "code",
   "execution_count": null,
   "id": "0dc89ccc-617e-4bf6-9528-f7e8f31a9675",
   "metadata": {},
   "outputs": [],
   "source": []
  }
 ],
 "metadata": {
  "kernelspec": {
   "display_name": "Python 3 (ipykernel)",
   "language": "python",
   "name": "python3"
  },
  "language_info": {
   "codemirror_mode": {
    "name": "ipython",
    "version": 3
   },
   "file_extension": ".py",
   "mimetype": "text/x-python",
   "name": "python",
   "nbconvert_exporter": "python",
   "pygments_lexer": "ipython3",
   "version": "3.12.4"
  }
 },
 "nbformat": 4,
 "nbformat_minor": 5
}
